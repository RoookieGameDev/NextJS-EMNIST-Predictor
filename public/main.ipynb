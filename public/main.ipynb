{
 "cells": [
  {
   "cell_type": "markdown",
   "metadata": {},
   "source": [
    "\n",
    "# Description du Modèle et Difficultés Rencontrées\n",
    "\n",
    "Ce notebook détaille le processus de développement d'un modèle utilisant TensorFlow et TensorFlow.js. Au cours de ce projet, plusieurs défis techniques ont dû être surmontés :\n",
    "\n",
    "1. **Compatibilité TensorFlow.js** : Il a été nécessaire de rétrograder TensorFlow pour assurer la compatibilité avec TensorFlow.js. La version compatible devait être inférieure à TensorFlow 3.10.\n",
    "\n",
    "2. **Problèmes avec EMNIST** : Le fichier zip de EMNIST téléchargé via `pip install` était corrompu. Une intervention manuelle dans le dossier `.cache` a été nécessaire pour corriger ce problème et permettre le bon déroulement du chargement des données.\n",
    "\n",
    "3. **Compaptibilité avec le kernel** : Il a été nécessaire d'utiliser python 3.9 pour pouvoir être capable de travailler avec Tensorflow.js\n"
   ]
  },
  {
   "cell_type": "code",
   "execution_count": null,
   "metadata": {},
   "outputs": [],
   "source": [
    "pip uninstall tensorflow tensorflowjs emnist"
   ]
  },
  {
   "cell_type": "code",
   "execution_count": null,
   "metadata": {},
   "outputs": [],
   "source": [
    "pip install tensorflow==2.15.0"
   ]
  },
  {
   "cell_type": "code",
   "execution_count": null,
   "metadata": {},
   "outputs": [],
   "source": [
    "pip install --upgrade tensorflowjs"
   ]
  },
  {
   "cell_type": "code",
   "execution_count": 17,
   "metadata": {},
   "outputs": [
    {
     "name": "stdout",
     "output_type": "stream",
     "text": [
      "Epoch 1/10\n",
      "6980/6980 [==============================] - 519s 74ms/step - loss: 0.6452 - accuracy: 0.7918 - val_loss: 0.4109 - val_accuracy: 0.8516\n",
      "Epoch 2/10\n",
      "6980/6980 [==============================] - 510s 73ms/step - loss: 0.4800 - accuracy: 0.8342 - val_loss: 0.3798 - val_accuracy: 0.8600\n",
      "Epoch 3/10\n",
      "6980/6980 [==============================] - 512s 73ms/step - loss: 0.4510 - accuracy: 0.8421 - val_loss: 0.3701 - val_accuracy: 0.8625\n",
      "Epoch 4/10\n",
      "6980/6980 [==============================] - 517s 74ms/step - loss: 0.4371 - accuracy: 0.8455 - val_loss: 0.3654 - val_accuracy: 0.8645\n",
      "Epoch 5/10\n",
      "6980/6980 [==============================] - 519s 74ms/step - loss: 0.4278 - accuracy: 0.8481 - val_loss: 0.3622 - val_accuracy: 0.8642\n",
      "Epoch 6/10\n",
      "6980/6980 [==============================] - 516s 74ms/step - loss: 0.4218 - accuracy: 0.8498 - val_loss: 0.3583 - val_accuracy: 0.8673\n",
      "Epoch 7/10\n",
      "6980/6980 [==============================] - 496s 71ms/step - loss: 0.4177 - accuracy: 0.8508 - val_loss: 0.3586 - val_accuracy: 0.8659\n",
      "Epoch 8/10\n",
      "6980/6980 [==============================] - 531s 76ms/step - loss: 0.4139 - accuracy: 0.8516 - val_loss: 0.3551 - val_accuracy: 0.8678\n",
      "Epoch 9/10\n",
      "6980/6980 [==============================] - 497s 71ms/step - loss: 0.4114 - accuracy: 0.8524 - val_loss: 0.3561 - val_accuracy: 0.8668\n",
      "Epoch 10/10\n",
      "6980/6980 [==============================] - 531s 76ms/step - loss: 0.4096 - accuracy: 0.8531 - val_loss: 0.3534 - val_accuracy: 0.8687\n",
      "accuracy: 86.87%\n",
      "Error: 13.13%\n"
     ]
    },
    {
     "name": "stderr",
     "output_type": "stream",
     "text": [
      "/Users/parfaitmburugu/.pyenv/versions/3.9.7/lib/python3.9/site-packages/keras/src/engine/training.py:3103: UserWarning: You are saving your model as an HDF5 file via `model.save()`. This file format is considered legacy. We recommend using instead the native Keras format, e.g. `model.save('my_model.keras')`.\n",
      "  saving_api.save_model(\n"
     ]
    }
   ],
   "source": [
    "from keras.models import Sequential\n",
    "from keras.layers import Conv2D, MaxPooling2D, Flatten, Dense, Dropout\n",
    "from emnist import extract_training_samples, extract_test_samples\n",
    "from tensorflow.keras.utils import to_categorical\n",
    "import tensorflowjs as tfjs\n",
    " \n",
    "\"\"\" Obtaining the data \"\"\"\n",
    "x_train, y_train = extract_training_samples('byclass')\n",
    "x_test, y_test = extract_test_samples('byclass')\n",
    " \n",
    "\"\"\" Preprocessing \"\"\"\n",
    "# reshape in the format [samples][width][height][channels]\n",
    "x_train = x_train.reshape(x_train.shape[0], 28, 28, 1).astype(\"float32\")\n",
    "x_test = x_test.reshape(x_test.shape[0], 28, 28, 1).astype(\"float32\")\n",
    "# normalize inputs from 0-255 to 0-1\n",
    "x_train /= 255\n",
    "x_test /= 255\n",
    "# one hot encoding categorical outputs\n",
    "y_train = to_categorical(y_train, 62)\n",
    "y_test = to_categorical(y_test, 62)\n",
    " \n",
    "\"\"\" Creating the model \"\"\"\n",
    "classifier = Sequential()\n",
    "# Add model layers\n",
    "classifier.add(Conv2D(64, (3, 3), input_shape=(28, 28, 1), activation=\"relu\"))\n",
    "classifier.add(MaxPooling2D(pool_size=(2, 2)))\n",
    "classifier.add(Dropout(0.25))\n",
    "classifier.add(Conv2D(64, (3, 3), activation=\"relu\"))\n",
    "classifier.add(MaxPooling2D(pool_size=(2, 2)))\n",
    "classifier.add(Dropout(0.25))\n",
    "classifier.add(Flatten())\n",
    "classifier.add(Dense(units=256, activation=\"relu\"))\n",
    "classifier.add(Dropout(0.5))\n",
    "classifier.add(Dense(units=62, activation=\"softmax\"))  # For EMNIST byclass\n",
    "# Compiling the model\n",
    "classifier.compile(optimizer=\"adam\", loss=\"categorical_crossentropy\", metrics=[\"accuracy\"])\n",
    "\n",
    "# Training the model\n",
    "classifier.fit(x_train, y_train, validation_data=(x_test, y_test), batch_size=100, epochs=10)\n",
    "\n",
    "# Model evaluation\n",
    "scores = classifier.evaluate(x_test, y_test, verbose=0)\n",
    "print(\"accuracy: %.2f%%\"%(scores[1]*100))\n",
    "print(\"Error: {:.2f}%\".format((1-scores[1])*100))\n",
    "\n",
    "# Save the model\n",
    "tfjs.converters.save_keras_model(classifier, \"model3\")"
   ]
  }
 ],
 "metadata": {
  "kernelspec": {
   "display_name": "Python 3",
   "language": "python",
   "name": "python3"
  },
  "language_info": {
   "codemirror_mode": {
    "name": "ipython",
    "version": 3
   },
   "file_extension": ".py",
   "mimetype": "text/x-python",
   "name": "python",
   "nbconvert_exporter": "python",
   "pygments_lexer": "ipython3",
   "version": "3.9.7"
  }
 },
 "nbformat": 4,
 "nbformat_minor": 2
}
